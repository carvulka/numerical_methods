{
 "cells": [
  {
   "cell_type": "code",
   "execution_count": 1,
   "metadata": {},
   "outputs": [],
   "source": [
    "import numpy\n",
    "import matplotlib.pyplot as pyplot\n",
    "import scipy"
   ]
  },
  {
   "cell_type": "code",
   "execution_count": 2,
   "metadata": {},
   "outputs": [
    {
     "name": "stdout",
     "output_type": "stream",
     "text": [
      "Exact value: 0.6931471805599453\n",
      "\n",
      "Rectangle rule approx value: 0.6931434885476101\n",
      "Rectangle rule error estimate: 9.845620667926906e-06\n",
      "Rectangle rule error:  3.6920123351880108e-06\n",
      "\n",
      "Trapezoid rule approx value: 0.6931508787574442\n",
      "Trapezoid rule error estimate: 9.861932938856015e-06\n",
      "Trapezoid rule error: 3.6981974989025446e-06\n",
      "\n",
      "Simpon's rule approx value: 0.693148662209101\n",
      "Simpon's rule error estimate: 6.430041152263374e-06\n",
      "Simpon's rule error: 1.4816491556990385e-06\n"
     ]
    }
   ],
   "source": [
    "# Notes\n",
    "\n",
    "def f(x):\n",
    "    return 1 / (1 + x)\n",
    "\n",
    "a = 0\n",
    "b = 1\n",
    "epsilon = 10 ** -5\n",
    "\n",
    "exact = numpy.log(2)\n",
    "\n",
    "n = numpy.sqrt(abs((2 * (b - a) ** 3) / (24 * epsilon)))\n",
    "n = int(numpy.ceil(n))\n",
    "x_mesh = numpy.linspace(a, b, n + 1)\n",
    "rectangle_rule_approx = 0\n",
    "for i in range(n):\n",
    "    rectangle_rule_approx += f((x_mesh[i] + x_mesh[i + 1]) / 2)\n",
    "rectangle_rule_approx *= (b - a) / n\n",
    "rectangle_rule_error_estimate = abs((2 * (b - a) ** 3) / (24 * n ** 2))\n",
    "\n",
    "n = numpy.sqrt(abs(-1 * (2 * (b - a) ** 3) / (12 * epsilon)))\n",
    "n = int(numpy.ceil(n))\n",
    "x_mesh = numpy.linspace(a, b, n + 1)\n",
    "trapezoid_rule_approx = 0\n",
    "for i in range(n):\n",
    "    trapezoid_rule_approx += f(x_mesh[i]) + f(x_mesh[i + 1])\n",
    "trapezoid_rule_approx *= (b - a) / (2 * n)\n",
    "trapezoid_rule_error_estimate = abs(-1 * (2 * (b - a) ** 3) / (12 * n ** 2))\n",
    "\n",
    "n = numpy.sqrt(numpy.sqrt(abs(-1 * (24 * (b - a) ** 5) / (2880 * epsilon))))\n",
    "n = int(numpy.ceil(n))\n",
    "x_mesh = numpy.linspace(a, b, n + 1)\n",
    "simpsons_rule_approx = 0\n",
    "for i in range(n):\n",
    "    simpsons_rule_approx += f(x_mesh[i]) + f(x_mesh[i + 1]) + 4 * f((x_mesh[i] + x_mesh[i + 1]) / 2)\n",
    "simpsons_rule_approx *= (b - a) / (6 * n)\n",
    "simpsons_rule_error_estimate = abs(-1 * (24 * (b - a) ** 5) / (2880 * n ** 4))\n",
    "\n",
    "print(\"Exact value:\", exact)\n",
    "print()\n",
    "print(\"Rectangle rule approx value:\", rectangle_rule_approx)\n",
    "print(\"Rectangle rule error estimate:\", rectangle_rule_error_estimate)\n",
    "print(\"Rectangle rule error: \", abs(exact - rectangle_rule_approx))\n",
    "print()\n",
    "print(\"Trapezoid rule approx value:\", trapezoid_rule_approx)\n",
    "print(\"Trapezoid rule error estimate:\", trapezoid_rule_error_estimate)\n",
    "print(\"Trapezoid rule error:\", abs(exact - trapezoid_rule_approx))\n",
    "print()\n",
    "print(\"Simpon's rule approx value:\", simpsons_rule_approx)\n",
    "print(\"Simpon's rule error estimate:\", simpsons_rule_error_estimate)\n",
    "print(\"Simpon's rule error:\", abs(exact - simpsons_rule_approx))"
   ]
  },
  {
   "cell_type": "code",
   "execution_count": 3,
   "metadata": {},
   "outputs": [
    {
     "name": "stdout",
     "output_type": "stream",
     "text": [
      "Exact value: 1.25\n",
      "\n",
      "Rectangle rule approx value: 1.0\n",
      "Rectangle rule error estimate: 0.375\n",
      "Rectangle rule error: 0.25\n",
      "\n",
      "Trapezoid rule approx value: 1.75\n",
      "Trapezoid rule error estimate: 0.75\n",
      "Trapezoid rule error: 0.5\n",
      "\n",
      "Simpon's rule approx value: 1.25\n",
      "Simpon's rule error estimate: 0.0020833333333333333\n",
      "Simpon's rule error: 0.0\n"
     ]
    }
   ],
   "source": [
    "# 1.\n",
    "\n",
    "def f(x):\n",
    "    return x ** 3\n",
    "\n",
    "a = 0.5\n",
    "b = 1.5\n",
    "\n",
    "exact = 1.25\n",
    "\n",
    "rectangle_rule_approx = f((a + b) / 2) * (b - a)\n",
    "rectangle_rule_error_estimate = abs((9 * (b - a) ** 3) / 24)\n",
    "\n",
    "trapezoid_rule_approx = (f(a) + f(b)) * (b - a) / 2\n",
    "trapezoid_rule_error_estimate = abs(-1 * (9 * (b - a) ** 3) / 12)\n",
    "\n",
    "simpsons_rule_approx = (f(a) + f(b) + 4 * f((a + b) / 2)) * (b - a) / 6\n",
    "simpsons_rule_error_estimate = abs(-1 * (6 * (b - a) ** 5) / 2880)\n",
    "\n",
    "print(\"Exact value:\", exact)\n",
    "print()\n",
    "print(\"Rectangle rule approx value:\", rectangle_rule_approx)\n",
    "print(\"Rectangle rule error estimate:\", rectangle_rule_error_estimate)\n",
    "print(\"Rectangle rule error:\", abs(exact - rectangle_rule_approx))\n",
    "print()\n",
    "print(\"Trapezoid rule approx value:\", trapezoid_rule_approx)\n",
    "print(\"Trapezoid rule error estimate:\", trapezoid_rule_error_estimate)\n",
    "print(\"Trapezoid rule error:\", abs(exact - trapezoid_rule_approx))\n",
    "print()\n",
    "print(\"Simpon's rule approx value:\", simpsons_rule_approx)\n",
    "print(\"Simpon's rule error estimate:\", simpsons_rule_error_estimate)\n",
    "print(\"Simpon's rule error:\", abs(exact - simpsons_rule_approx))"
   ]
  },
  {
   "cell_type": "code",
   "execution_count": 4,
   "metadata": {},
   "outputs": [
    {
     "data": {
      "image/png": "[encoded data removed]",
      "text/plain": [
       "<Figure size 640x480 with 1 Axes>"
      ]
     },
     "metadata": {},
     "output_type": "display_data"
    },
    {
     "name": "stdout",
     "output_type": "stream",
     "text": [
      "Scipy approx value: 0.804964022751974\n",
      "Scipy error estimate: 8.936895920541299e-15\n",
      "\n",
      "Rectangle rule approx value: 0.9515614907107687\n",
      "Rectangle rule error estimate: 0\n",
      "\n",
      "Trapezoid rule approx value: 0.5251875296832664\n",
      "Trapezoid rule error estimate: 0\n",
      "\n",
      "Simpson's rule approx value: 0.8094368370349345\n",
      "Simpson's rule error estimate: 0\n"
     ]
    }
   ],
   "source": [
    "# 2.\n",
    "\n",
    "def f(x):\n",
    "    return numpy.sin(x) / numpy.log(x)\n",
    "\n",
    "a = 7\n",
    "b = 9\n",
    "\n",
    "x_axis = numpy.linspace(a, b, 1000)\n",
    "\n",
    "pyplot.plot(x_axis, f(x_axis))\n",
    "pyplot.show()\n",
    "\n",
    "scipy_approx, scipy_error_estimate = scipy.integrate.quad(f, a, b)\n",
    "\n",
    "rectangle_rule_approx = f((a + b) / 2) * (b - a)\n",
    "rectangle_rule_error_estimate = 0 # abs((f\"(xi) * (b - a) ** 3) / 24)\n",
    "\n",
    "trapezoid_rule_approx = (f(a) + f(b)) * (b - a) / 2\n",
    "trapezoid_rule_error_estimate = 0 # abs(-1 * (f\"(xi) * (b - a) ** 3) / 12)\n",
    "\n",
    "simpsons_rule_approx = (f(a) + f(b) + 4 * f((a + b) / 2)) * (b - a) / 6\n",
    "simpsons_rule_error_estimate = 0 # abs(-1 * (f\"(xi) * (b - a) ** 5) / 2880)\n",
    "\n",
    "print(\"Scipy approx value:\", scipy_approx)\n",
    "print(\"Scipy error estimate:\", scipy_error_estimate)\n",
    "print()\n",
    "print(\"Rectangle rule approx value:\", rectangle_rule_approx)\n",
    "print(\"Rectangle rule error estimate:\", rectangle_rule_error_estimate)\n",
    "print()\n",
    "print(\"Trapezoid rule approx value:\", trapezoid_rule_approx)\n",
    "print(\"Trapezoid rule error estimate:\", trapezoid_rule_error_estimate)\n",
    "print()\n",
    "print(\"Simpson's rule approx value:\", simpsons_rule_approx)\n",
    "print(\"Simpson's rule error estimate:\", simpsons_rule_error_estimate)"
   ]
  },
  {
   "cell_type": "code",
   "execution_count": 5,
   "metadata": {},
   "outputs": [
    {
     "name": "stdout",
     "output_type": "stream",
     "text": [
      "Exact value: 0.6931471805599453\n",
      "Rectangle rule approx value: 0.6931434885476101\n",
      "Trapezoid rule approx value: 0.6931508787574442\n",
      "Simpson's rule approx value: 0.693148662209101\n"
     ]
    }
   ],
   "source": [
    "# 3.\n",
    "\n",
    "def f(x):\n",
    "    return 1 / x\n",
    "\n",
    "a = 1\n",
    "b = 2\n",
    "epsilon = 10 ** -5\n",
    "\n",
    "exact = numpy.log(2)\n",
    "\n",
    "# f\"(x) = 2 * x ** -3 => f\"(1) = 2 is a local max\n",
    "n = numpy.sqrt(abs((2 * (b - a) ** 3) / (24 * epsilon))) # 91.28709291752767\n",
    "n = int(numpy.ceil(n)) # 92\n",
    "x_mesh = numpy.linspace(a, b, n + 1)\n",
    "rectangle_rule_approx = 0\n",
    "for i in range(n):\n",
    "    rectangle_rule_approx += f((x_mesh[i] + x_mesh[i + 1]) / 2)\n",
    "rectangle_rule_approx *= (b - a) / n\n",
    "\n",
    "# f\"(x) = 2 * x ** -3 => f\"(1) = 2 is a local max\n",
    "n = numpy.sqrt(abs(-1 * (2 * (b - a) ** 3) / (12 * epsilon)))\n",
    "n = int(numpy.ceil(n))\n",
    "x_mesh = numpy.linspace(a, b, n + 1)\n",
    "trapezoid_rule_approx = 0\n",
    "for i in range(n):\n",
    "    trapezoid_rule_approx += f(x_mesh[i]) + f(x_mesh[i + 1])\n",
    "trapezoid_rule_approx *= (b - a) / (2 * n)\n",
    "\n",
    "# f\"(x) = 24 * x ** -5 => f\"(1) = 24 is a local max\n",
    "n = numpy.sqrt(numpy.sqrt(abs(-1 * (24 * (b - a) ** 5) / (2880 * epsilon))))\n",
    "n = int(numpy.ceil(n))\n",
    "x_mesh = numpy.linspace(a, b, n + 1)\n",
    "simpsons_rule_approx = 0\n",
    "for i in range(n):\n",
    "    simpsons_rule_approx += f(x_mesh[i]) + f(x_mesh[i + 1]) + 4 * f((x_mesh[i] + x_mesh[i + 1]) / 2)\n",
    "simpsons_rule_approx *= (b - a) / (6 * n)\n",
    "\n",
    "print(\"Exact value:\", exact)\n",
    "print(\"Rectangle rule approx value:\", rectangle_rule_approx)\n",
    "print(\"Trapezoid rule approx value:\", trapezoid_rule_approx)\n",
    "print(\"Simpson's rule approx value:\", simpsons_rule_approx)"
   ]
  }
 ],
 "metadata": {
  "kernelspec": {
   "display_name": "Python 3",
   "language": "python",
   "name": "python3"
  },
  "language_info": {
   "codemirror_mode": {
    "name": "ipython",
    "version": 3
   },
   "file_extension": ".py",
   "mimetype": "text/x-python",
   "name": "python",
   "nbconvert_exporter": "python",
   "pygments_lexer": "ipython3",
   "version": "3.13.0"
  }
 },
 "nbformat": 4,
 "nbformat_minor": 2
}
