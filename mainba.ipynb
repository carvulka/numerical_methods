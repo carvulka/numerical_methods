{
 "cells": [
  {
   "cell_type": "markdown",
   "id": "457770a8",
   "metadata": {},
   "source": [
    "# Смесена задача за уравнение на струната, решена по метода на Фурие"
   ]
  },
  {
   "cell_type": "markdown",
   "id": "e118af19",
   "metadata": {},
   "source": [
    "Дадена е следната задача за моделиране на движението на струната:\n",
    "\n",
    "$$\n",
    "\\begin{cases}\n",
    "u_{tt} = u_{xx}, \\quad t>0, \\space 0 < x < 3\\\\\n",
    "u|_{t=0} = \\phi(x), \\quad 0 \\le x \\le 3\\\\\n",
    "u_t|_{t=0} = 0, \\quad 0 \\le x \\le 3\\\\\n",
    "u|_{x=0} = 0, \\quad u|_{x = 3} = 0, \\quad t \\ge 0\n",
    "\\end{cases}\n",
    "$$\n",
    "\n",
    "За\n",
    "\n",
    "* a) $\\phi = \\sin{\\frac{4\\pi x}{3}}$\n",
    "* б) $\\phi = x^2(x-3)^2$\n",
    "\n",
    "Задача:\n",
    "\n",
    "* Да се реши задачата аналитично по метода на Фурие.\n",
    "* Да се направи анимация от графиките на движението на струната в интервала $t \\in [0, 6]$, като се използва:\n",
    "    * за а) - намереното $u(x, t)$, изразено в явен вид\n",
    "    * за б) - парциалната сума до 50-тия член на намеренето $u(x, t)$"
   ]
  },
  {
   "cell_type": "markdown",
   "id": "33361593",
   "metadata": {},
   "source": [
    "## Теоретична част\n",
    "\n",
    "Вижте как се решава задачата за струната по метода на Фурие от публичното репо в папката изпит-задачи в типовете задачи.\n",
    "\n",
    "$$u(x, t) = \\displaystyle \\sum_{k=1}^{\\infty}\\sin\\left(\\dfrac{k\\pi}{L} x\\right) \\left [ A_k\\cos\\left(\\dfrac{k\\pi}{L}a t\\right) + B_k\\sin \\left(\\dfrac{k\\pi}{L}a t \\right) \\right ]$$\n",
    "\n",
    "### а) подточка\n",
    "\n",
    "Прилагаме първото начално условие\n",
    "\n",
    "$$u|_{t=0} = \\phi(x)$$\n",
    "\n",
    "$$\\displaystyle \\sum_{k=1}^{\\infty}\\sin\\left(\\dfrac{k\\pi}{L} x\\right) A_k = \\phi(x)$$\n",
    "\n",
    "$$ А_1 \\sin\\left(\\dfrac{1\\pi}{3} x\\right) + А_2 \\sin\\left(\\dfrac{2\\pi}{3} x\\right) + А_3 \\sin\\left(\\dfrac{3\\pi}{3} x\\right) + А_4 \\sin\\left(\\dfrac{4\\pi}{3} x\\right) + \\dots = \\sin{\\frac{4\\pi x}{3}}$$\n",
    "\n",
    "Равенството е изпълнено при $A_4 = 1, A_k = 0 \\space k \\in \\mathbb{N} \\backslash \\lbrace 0, 4 \\rbrace$\n",
    "\n",
    "Прилагаме второто начално условие. Първо ще трябва да диференцираме по $t$\n",
    "\n",
    "$$u_t(x, t) = \\displaystyle \\sum_{k=1}^{\\infty}\\sin\\left(\\dfrac{k\\pi}{L} x\\right) \\left [ -A_k \\dfrac{k\\pi}{L}a\\sin\\left(\\dfrac{k\\pi}{L}a t\\right) + B_k \\dfrac{k\\pi}{L}a \\cos \\left(\\dfrac{k\\pi}{L}a t \\right) \\right ]$$\n",
    "\n",
    "$$u_t|_{t=0} = \\psi(x)$$\n",
    "\n",
    "$$\\displaystyle \\sum_{k=1}^{\\infty}\\sin\\left(\\dfrac{k\\pi}{L} x\\right) B_k \\dfrac{k\\pi}{L}a = \\psi(x)$$\n",
    "\n",
    "$$\\displaystyle \\sum_{k=1}^{\\infty}\\sin\\left(\\dfrac{k\\pi}{L} x\\right) B_k \\dfrac{k\\pi}{L}a = 0$$\n",
    "\n",
    "Равенството е изпълнено при $B_k = 0 \\space k \\in \\mathbb{N} \\backslash \\lbrace 0 \\rbrace$\n",
    "\n",
    "Така за $u(x, t)$ получаваме:\n",
    "\n",
    "$$u(x, t) = \\sin{\\frac{4\\pi x}{3}}\\cos{\\frac{4\\pi a t}{3}}$$\n",
    "\n",
    "$$u(x, t) = \\sin{\\frac{4\\pi x}{3}}\\cos{\\frac{4\\pi t}{3}}$$\n",
    "\n",
    "### б) подточка\n",
    "\n",
    "Прилагаме пълния алгоритъм и намираме коефициентите\n",
    "\n",
    "$$\\displaystyle A_k = \\dfrac{2}{L} \\int\\limits_0^L \\phi(x) \\sin\\left(\\dfrac{k\\pi}{L} x\\right) dx = \\dfrac{2}{3} \\int\\limits_0^L x^2(x-3)^2 \\sin\\left(\\dfrac{k\\pi}{3} x\\right) dx$$\n",
    "\n",
    "$$\\displaystyle B_k = \\dfrac{2}{аk\\pi} \\int\\limits_0^L \\psi(x) \\sin\\left(\\dfrac{k\\pi}{L} x\\right) dx = \\dfrac{2}{k\\pi} \\int\\limits_0^L 0 \\space dx = 0$$\n",
    "\n",
    "Използваме тези коефициенти, за да пресметнем първите 50 събираеми от сумата\n",
    "\n",
    "$$u(x, t) \\approx \\displaystyle \\sum_{k=1}^{\\infty}\\sin\\left(\\dfrac{k\\pi}{L} x\\right) \\left [ A_k\\cos\\left(\\dfrac{k\\pi}{L}a t\\right) + B_k\\sin \\left(\\dfrac{k\\pi}{L}a t \\right) \\right ]$$\n",
    "\n",
    "$$u(x, t) \\approx \\displaystyle \\sum_{k=1}^{50}\\sin\\left(\\dfrac{k\\pi}{3} x\\right) \\left [ A_k\\cos\\left(\\dfrac{k\\pi}{3} t\\right) + B_k\\sin \\left(\\dfrac{k\\pi}{3} t \\right) \\right ]$$"
   ]
  },
  {
   "cell_type": "markdown",
   "id": "ecdbc4ec",
   "metadata": {},
   "source": [
    "## Код за а) подточка"
   ]
  },
  {
   "cell_type": "code",
   "execution_count": null,
   "id": "06161342",
   "metadata": {},
   "outputs": [],
   "source": [
    "L = 3;\n",
    "T = 6;\n",
    "a = 1;\n",
    "\n",
    "u = @(x, t) sin(4.*pi.*x./L) .* cos(4.*pi.*a.*t./L);"
   ]
  },
  {
   "cell_type": "code",
   "execution_count": null,
   "id": "fed7303e",
   "metadata": {},
   "outputs": [],
   "source": [
    "x_axis = 0:0.02:L;\n",
    "\n",
    "for t = 0:0.025:T\n",
    "    plot(x_axis, u(x_axis, t));\n",
    "    axis([0, L, -2, 2])\n",
    "\n",
    "    pause(0.08)\n",
    "end"
   ]
  },
  {
   "cell_type": "markdown",
   "id": "3e12365e",
   "metadata": {},
   "source": [
    "![виж анимацията на движението на струната](./animation_string_movement_exact_solution_a_podtochka.gif \"animation of the movement of a string\")"
   ]
  },
  {
   "cell_type": "markdown",
   "id": "a4f9dd06",
   "metadata": {},
   "source": [
    "## Код за б) подточка"
   ]
  },
  {
   "cell_type": "code",
   "execution_count": null,
   "id": "919c6902",
   "metadata": {},
   "outputs": [],
   "source": [
    "L = 3;\n",
    "T = 6;\n",
    "a = 1;\n",
    "\n",
    "A = @(k) (2/L) * integral(@(x) x.^2 .* (x - 3).^2 .* sin(k * pi * x / L), 0, L);\n",
    "B = @(k) 0;\n",
    "\n",
    "function res = u(x, t, A, B, L, a)\n",
    "    res = zeros(size(x));\n",
    "    for k = 1:50\n",
    "        res = res + ...\n",
    "            sin(k * pi * x / L) .* ...\n",
    "            (A(k) * cos(k * pi * a * t / L) + ...\n",
    "             B(k) * sin(k * pi * a * t / L));\n",
    "    end\n",
    "end"
   ]
  },
  {
   "cell_type": "code",
   "execution_count": null,
   "id": "8115df0f",
   "metadata": {},
   "outputs": [],
   "source": [
    "x_axis = 0:0.01:L;\n",
    "\n",
    "for t = 0:0.025:T\n",
    "    plot(x_axis, u(x_axis, t, A, B, L, a));\n",
    "    axis([0, L, -6, 6])\n",
    "\n",
    "    pause(0.025)\n",
    "end"
   ]
  },
  {
   "cell_type": "markdown",
   "id": "be097740",
   "metadata": {},
   "source": [
    "![виж анимацията на движението на струната](./animation_string_movement_partial_sum_b_podtochka.gif \"animation of the movement of a string\")"
   ]
  }
 ],
 "metadata": {
  "kernelspec": {
   "display_name": "Octave",
   "language": "octave",
   "name": "octave"
  },
  "language_info": {
   "file_extension": ".m",
   "help_links": [
    {
     "text": "GNU Octave",
     "url": "https://www.gnu.org/software/octave/support.html"
    },
    {
     "text": "Octave Kernel",
     "url": "https://github.com/Calysto/octave_kernel"
    },
    {
     "text": "MetaKernel Magics",
     "url": "https://metakernel.readthedocs.io/en/latest/source/README.html"
    }
   ],
   "mimetype": "text/x-octave",
   "name": "octave",
   "version": "9.3.0"
  }
 },
 "nbformat": 4,
 "nbformat_minor": 5
}
